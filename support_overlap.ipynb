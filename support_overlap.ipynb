{
 "cells": [
  {
   "cell_type": "code",
   "execution_count": 1,
   "metadata": {},
   "outputs": [
    {
     "name": "stdout",
     "output_type": "stream",
     "text": [
      "CUDA Available: True\n",
      "Current Device: 0\n",
      "Device Name: NVIDIA TITAN X (Pascal)\n"
     ]
    }
   ],
   "source": [
    "import torch\n",
    "from tqdm import tqdm\n",
    "# Check if CUDA is available and being used\n",
    "cuda_available = torch.cuda.is_available()\n",
    "current_device = torch.cuda.current_device() if cuda_available else 'CPU'\n",
    "device_name = torch.cuda.get_device_name(current_device) if cuda_available else 'CPU'\n",
    "\n",
    "print(f\"CUDA Available: {cuda_available}\")\n",
    "print(f\"Current Device: {current_device}\")\n",
    "print(f\"Device Name: {device_name}\")"
   ]
  },
  {
   "cell_type": "code",
   "execution_count": 2,
   "metadata": {
    "pycharm": {
     "name": "#%%\n"
    }
   },
   "outputs": [
    {
     "name": "stderr",
     "output_type": "stream",
     "text": [
      "/export/home/bmontaze/behrooz_vscode/repos/ood_detections/.venv/lib/python3.10/site-packages/ignite/handlers/checkpoint.py:16: DeprecationWarning: `TorchScript` support for functional optimizers is deprecated and will be removed in a future PyTorch release. Consider using the `torch.compile` optimizer instead.\n",
      "  from torch.distributed.optim import ZeroRedundancyOptimizer\n"
     ]
    }
   ],
   "source": [
    "import json\n",
    "import matplotlib.pyplot as plt\n",
    "from os import path\n",
    "from torch.utils.data import DataLoader\n",
    "\n",
    "from models.glow_model.train import get_ds_params\n",
    "from models.glow_model.model import Glow\n",
    "from utilities.routes import OUTPUT_DIR\n",
    "\n",
    "device = torch.device(\"cuda\")\n",
    "def load_model(ds_name, checkpoint, device):\n",
    "    \n",
    "    transform =None\n",
    "    dataset_output = \"output_full_train/\"\n",
    "    # dataset_output = \"output_lastresult/\"\n",
    "    model_type = 'glow'\n",
    "\n",
    "    dataset_output_dir = path.join(dataset_output, f\"{model_type}_{ds_name}/\")\n",
    "\n",
    "    with open(dataset_output_dir + 'hparams.json') as json_file:  \n",
    "        hparams = json.load(json_file)\n",
    "    image_shape, num_classes, _, test_ds = get_ds_params(ds_name, hparams['dataroot'], transform, hparams['augment'], hparams['download'],mode='test')\n",
    "    model = Glow(image_shape, hparams['hidden_channels'], hparams['K'], hparams['L'], hparams['actnorm_scale'],\n",
    "                hparams['flow_permutation'], hparams['flow_coupling'], hparams['LU_decomposed'], num_classes,\n",
    "                hparams['learn_top'], hparams['y_condition'])\n",
    "\n",
    "    model.load_state_dict(torch.load(dataset_output_dir + checkpoint)['model']) # Load only model part\n",
    "    model.set_actnorm_init()\n",
    "\n",
    "    model = model.to(device)\n",
    "\n",
    "    model = model.eval()\n",
    "    return test_ds, model"
   ]
  },
  {
   "cell_type": "code",
   "execution_count": 3,
   "metadata": {
    "pycharm": {
     "name": "#%%\n"
    }
   },
   "outputs": [],
   "source": [
    "def compute_nll(dataset, model):\n",
    "    # dataloader = torch.utils.data.DataLoader(dataset, batch_size=512, num_workers=6)\n",
    "    dataloader = DataLoader(dataset, batch_size=512, shuffle=False)\n",
    "    nlls = []\n",
    "    for x,y in dataloader:\n",
    "        x = x.to(device)\n",
    "        y = None\n",
    "        \n",
    "        with torch.no_grad():\n",
    "            _, nll, _ = model(x, y_onehot=y)\n",
    "            nlls.append(nll)\n",
    "        \n",
    "    return torch.cat(nlls).cpu()"
   ]
  },
  {
   "cell_type": "code",
   "execution_count": 5,
   "metadata": {},
   "outputs": [
    {
     "name": "stderr",
     "output_type": "stream",
     "text": [
      "/tmp/ipykernel_1677431/458778599.py:27: FutureWarning: You are using `torch.load` with `weights_only=False` (the current default value), which uses the default pickle module implicitly. It is possible to construct malicious pickle data which will execute arbitrary code during unpickling (See https://github.com/pytorch/pytorch/blob/main/SECURITY.md#untrusted-models for more details). In a future release, the default value for `weights_only` will be flipped to `True`. This limits the functions that could be executed during unpickling. Arbitrary objects will no longer be allowed to be loaded via this mode unless they are explicitly allowlisted by the user via `torch.serialization.add_safe_globals`. We recommend you start setting `weights_only=True` for any use case where you don't have full control of the loaded file. Please open an issue on GitHub for any issues related to this experimental feature.\n",
      "  model.load_state_dict(torch.load(dataset_output_dir + checkpoint)['model']) # Load only model part\n"
     ]
    },
    {
     "name": "stdout",
     "output_type": "stream",
     "text": [
      "Total entries in LMDB: 50000\n"
     ]
    },
    {
     "name": "stderr",
     "output_type": "stream",
     "text": [
      "Loading validation data of ImageNet32: 100%|██████████| 50000/50000 [00:09<00:00, 5059.82it/s]\n"
     ]
    },
    {
     "name": "stdout",
     "output_type": "stream",
     "text": [
      "Total entries in LMDB split): 40520\n"
     ]
    },
    {
     "name": "stderr",
     "output_type": "stream",
     "text": [
      "Loading validation data of CelebA: 100%|██████████| 40520/40520 [00:21<00:00, 1894.82it/s]\n"
     ]
    },
    {
     "name": "stdout",
     "output_type": "stream",
     "text": [
      "CIFAR NLL tensor(3.8743)\n",
      "SVHN NLL tensor(2.1234)\n",
      "Imagenet32 NLL tensor(3.8193)\n",
      "Celeba NLL tensor(3.8719)\n",
      "GTSRB NLL tensor(3.5857)\n"
     ]
    }
   ],
   "source": [
    "epoch = 250 #10 250\n",
    "if epoch==1:\n",
    "    cifar10_chk = 'glow_checkpoint_781.pt'\n",
    "    svhn_chk = 'glow_checkpoint_1144.pt'\n",
    "    imagenet32_chk = 'glow_checkpoint_2001.pt'\n",
    "    celeba_chk = 'glow_checkpoint_2532.pt'\n",
    "    gtsrb_chk = 'glow_checkpoint_416.pt'\n",
    "    epo_info = \"One epoch\"\n",
    "elif epoch==10:\n",
    "    cifar10_chk = 'glow_checkpoint_7810.pt'\n",
    "    svhn_chk = 'glow_checkpoint_11440.pt'\n",
    "    imagenet32_chk = 'glow_checkpoint_20010.pt'\n",
    "    celeba_chk = 'glow_checkpoint_25320.pt'\n",
    "    gtsrb_chk = 'glow_checkpoint_4160.pt'\n",
    "    epo_info = \"Ten epochs\"\n",
    "elif epoch==250:\n",
    "    cifar10_chk = 'glow_checkpoint_195250.pt'\n",
    "    svhn_chk = 'glow_checkpoint_286000.pt'\n",
    "    imagenet32_chk = 'glow_checkpoint_500250.pt'\n",
    "    celeba_chk = 'glow_checkpoint_633000.pt'\n",
    "    gtsrb_chk = 'glow_checkpoint_104000.pt'\n",
    "    epo_info = \"Fully trained\"\n",
    "\n",
    "def load_ds(ds_name):\n",
    "    \n",
    "    transform =None\n",
    "    dataset_output = \"output_full_train/\"\n",
    "    # dataset_output = \"output_lastresult/\"\n",
    "    model_type = 'glow'\n",
    "\n",
    "    dataset_output_dir = path.join(dataset_output, f\"{model_type}_{ds_name}/\")\n",
    "\n",
    "    with open(dataset_output_dir + 'hparams.json') as json_file:  \n",
    "        hparams = json.load(json_file)\n",
    "    image_shape, num_classes, _, test_ds = get_ds_params(ds_name, hparams['dataroot'], transform, hparams['augment'], hparams['download'],mode='test')\n",
    "    return test_ds\n",
    "\n",
    "# gtsrb_test, model = load_model('gtsrb', gtsrb_chk, device)\n",
    "# gtsrb_nll = compute_nll(gtsrb_test, model)\n",
    "svhn_test, model = load_model('svhn', svhn_chk, device)\n",
    "svhn_nll = compute_nll(svhn_test, model)\n",
    "imagenet32_test = load_ds('imagenet32')\n",
    "imagenet32_nll = compute_nll(imagenet32_test, model)\n",
    "cifar_test = load_ds('cifar10')\n",
    "cifar_nll = compute_nll(cifar_test, model)\n",
    "celeba_test = load_ds('celeba')\n",
    "celeba_nll = compute_nll(celeba_test, model)\n",
    "gtsrb_test = load_ds('gtsrb')\n",
    "gtsrb_nll = compute_nll(gtsrb_test, model)\n",
    "\n",
    "\n",
    "print(\"CIFAR NLL\", torch.mean(cifar_nll))\n",
    "print(\"SVHN NLL\", torch.mean(svhn_nll))\n",
    "print(\"Imagenet32 NLL\", torch.mean(imagenet32_nll))\n",
    "print(\"Celeba NLL\", torch.mean(celeba_nll))\n",
    "print(\"GTSRB NLL\", torch.mean(gtsrb_nll))"
   ]
  },
  {
   "cell_type": "code",
   "execution_count": 4,
   "metadata": {
    "pycharm": {
     "name": "#%%\n"
    },
    "scrolled": true
   },
   "outputs": [
    {
     "name": "stderr",
     "output_type": "stream",
     "text": [
      "/net/hcihome/storage/bmontaze/behrooz_vscode/repos/ood_detections/models/glow_model/modules.py:482: UserWarning: torch.qr is deprecated in favor of torch.linalg.qr and will be removed in a future PyTorch release.\n",
      "The boolean parameter 'some' has been replaced with a string parameter 'mode'.\n",
      "Q, R = torch.qr(A, some)\n",
      "should be replaced with\n",
      "Q, R = torch.linalg.qr(A, 'reduced' if some else 'complete') (Triggered internally at ../aten/src/ATen/native/BatchLinearAlgebra.cpp:2416.)\n",
      "  w_init = torch.qr(torch.randn(*w_shape))[0]\n",
      "/export/home/bmontaze/behrooz_vscode/repos/ood_detections/.venv/lib/python3.10/site-packages/torch/functional.py:1924: UserWarning: torch.lu is deprecated in favor of torch.linalg.lu_factor / torch.linalg.lu_factor_ex and will be removed in a future PyTorch release.\n",
      "LU, pivots = torch.lu(A, compute_pivots)\n",
      "should be replaced with\n",
      "LU, pivots = torch.linalg.lu_factor(A, compute_pivots)\n",
      "and\n",
      "LU, pivots, info = torch.lu(A, compute_pivots, get_infos=True)\n",
      "should be replaced with\n",
      "LU, pivots, info = torch.linalg.lu_factor_ex(A, compute_pivots) (Triggered internally at ../aten/src/ATen/native/BatchLinearAlgebra.cpp:1984.)\n",
      "  return torch._lu_with_info(A, pivot=pivot, check_errors=(not get_infos))\n",
      "/tmp/ipykernel_1643477/1926424858.py:26: FutureWarning: You are using `torch.load` with `weights_only=False` (the current default value), which uses the default pickle module implicitly. It is possible to construct malicious pickle data which will execute arbitrary code during unpickling (See https://github.com/pytorch/pytorch/blob/main/SECURITY.md#untrusted-models for more details). In a future release, the default value for `weights_only` will be flipped to `True`. This limits the functions that could be executed during unpickling. Arbitrary objects will no longer be allowed to be loaded via this mode unless they are explicitly allowlisted by the user via `torch.serialization.add_safe_globals`. We recommend you start setting `weights_only=True` for any use case where you don't have full control of the loaded file. Please open an issue on GitHub for any issues related to this experimental feature.\n",
      "  model.load_state_dict(torch.load(dataset_output_dir + checkpoint)['model']) # Load only model part\n"
     ]
    },
    {
     "name": "stdout",
     "output_type": "stream",
     "text": [
      "Using downloaded and verified file: /net/hcihome/storage/bmontaze/behrooz_vscode/repos/ood_detections/data/SVHN/test_32x32.mat\n"
     ]
    },
    {
     "name": "stderr",
     "output_type": "stream",
     "text": [
      "/tmp/ipykernel_1643477/1926424858.py:26: FutureWarning: You are using `torch.load` with `weights_only=False` (the current default value), which uses the default pickle module implicitly. It is possible to construct malicious pickle data which will execute arbitrary code during unpickling (See https://github.com/pytorch/pytorch/blob/main/SECURITY.md#untrusted-models for more details). In a future release, the default value for `weights_only` will be flipped to `True`. This limits the functions that could be executed during unpickling. Arbitrary objects will no longer be allowed to be loaded via this mode unless they are explicitly allowlisted by the user via `torch.serialization.add_safe_globals`. We recommend you start setting `weights_only=True` for any use case where you don't have full control of the loaded file. Please open an issue on GitHub for any issues related to this experimental feature.\n",
      "  model.load_state_dict(torch.load(dataset_output_dir + checkpoint)['model']) # Load only model part\n"
     ]
    },
    {
     "name": "stdout",
     "output_type": "stream",
     "text": [
      "Total entries in LMDB: 50000\n"
     ]
    },
    {
     "name": "stderr",
     "output_type": "stream",
     "text": [
      "Loading validation data of ImageNet32: 100%|██████████| 50000/50000 [00:09<00:00, 5094.79it/s]\n"
     ]
    },
    {
     "name": "stdout",
     "output_type": "stream",
     "text": [
      "Total entries in LMDB split): 40520\n"
     ]
    },
    {
     "name": "stderr",
     "output_type": "stream",
     "text": [
      "Loading validation data of CelebA: 100%|██████████| 40520/40520 [00:21<00:00, 1890.17it/s]\n"
     ]
    },
    {
     "name": "stdout",
     "output_type": "stream",
     "text": [
      "CIFAR NLL tensor(3.6773)\n",
      "SVHN NLL tensor(2.2632)\n",
      "Imagenet32 NLL tensor(3.2626)\n",
      "Celeba NLL tensor(3.3650)\n",
      "GTSRB NLL tensor(3.2675)\n"
     ]
    }
   ],
   "source": [
    "# # Compute nll under GLOW model\n",
    "# epoch = 10 #10 250\n",
    "# if epoch==1:\n",
    "#     cifar10_chk = 'glow_checkpoint_781.pt'\n",
    "#     svhn_chk = 'glow_checkpoint_1144.pt'\n",
    "#     imagenet32_chk = 'glow_checkpoint_2001.pt'\n",
    "#     celeba_chk = 'glow_checkpoint_2532.pt'\n",
    "#     gtsrb_chk = 'glow_checkpoint_416.pt'\n",
    "#     epo_info = \"One epoch\"\n",
    "# elif epoch==10:\n",
    "#     cifar10_chk = 'glow_checkpoint_7810.pt'\n",
    "#     svhn_chk = 'glow_checkpoint_11440.pt'\n",
    "#     imagenet32_chk = 'glow_checkpoint_20010.pt'\n",
    "#     celeba_chk = 'glow_checkpoint_25320.pt'\n",
    "#     gtsrb_chk = 'glow_checkpoint_4160.pt'\n",
    "#     epo_info = \"Ten epochs\"\n",
    "# elif epoch==250:\n",
    "#     cifar10_chk = 'glow_checkpoint_195250.pt'\n",
    "#     svhn_chk = 'glow_checkpoint_286000.pt'\n",
    "#     imagenet32_chk = 'glow_checkpoint_500250.pt'\n",
    "#     celeba_chk = 'glow_checkpoint_633000.pt'\n",
    "#     gtsrb_chk = 'glow_checkpoint_104000.pt'\n",
    "#     epo_info = \"Fully trained\"\n",
    "\n",
    "\n",
    "\n",
    "# cifar_test, cifar_model = load_model('cifar10', cifar10_chk, device)\n",
    "# cifar_nll = compute_nll(cifar_test, cifar_model)\n",
    "# svhn_test, svhn_model = load_model('svhn', svhn_chk, device)\n",
    "# svhn_nll = compute_nll(svhn_test, svhn_model)\n",
    "# imagenet32_test, imagenet32_model = load_model('imagenet32', imagenet32_chk, device)\n",
    "# imagenet32_nll = compute_nll(imagenet32_test, imagenet32_model)\n",
    "# celeba_test, celeba_model = load_model('celeba', celeba_chk, device)\n",
    "# celeba_nll = compute_nll(celeba_test, celeba_model)\n",
    "# gtsrb_test, gtsrb_model = load_model('gtsrb', gtsrb_chk, device)\n",
    "# gtsrb_nll = compute_nll(gtsrb_test, gtsrb_model)\n",
    "\n",
    "\n",
    "# print(\"CIFAR NLL\", torch.mean(cifar_nll))\n",
    "# print(\"SVHN NLL\", torch.mean(svhn_nll))\n",
    "# print(\"Imagenet32 NLL\", torch.mean(imagenet32_nll))\n",
    "# print(\"Celeba NLL\", torch.mean(celeba_nll))\n",
    "# print(\"GTSRB NLL\", torch.mean(gtsrb_nll))"
   ]
  },
  {
   "cell_type": "code",
   "execution_count": 5,
   "metadata": {},
   "outputs": [],
   "source": [
    "nll_data = {\n",
    "    \"cifar_nll\": cifar_nll.tolist(),\n",
    "    \"svhn_nll\": svhn_nll.tolist(),\n",
    "    \"imagenet32_nll\": imagenet32_nll.tolist(),\n",
    "    \"celeba_nll\": celeba_nll.tolist(),\n",
    "    \"gtsrb_nll\": gtsrb_nll.tolist()\n",
    "}\n",
    "output_file = path.join(\"images\", \"nll_data_under_cifar_model_one_epoch.json\")\n",
    "with open(output_file, 'w') as f:\n",
    "    json.dump(nll_data, f)"
   ]
  },
  {
   "cell_type": "code",
   "execution_count": 18,
   "metadata": {},
   "outputs": [
    {
     "name": "stdout",
     "output_type": "stream",
     "text": [
      "CIFAR NLL 4.264880203771591\n",
      "SVHN NLL 2.5720091812500354\n",
      "Imagenet32 NLL 3.8097166062021257\n",
      "Celeba NLL 3.824129492138592\n",
      "GTSRB NLL 3.8120213098688343\n"
     ]
    }
   ],
   "source": [
    "import numpy as np\n",
    "# output_file = path.join(\"images/fully_trained/\", \"nll_data_fully_trained.json\")\n",
    "# output_file = path.join(\"images/ten_epochs/\", \"nll_data_ten_epochs.json\")\n",
    "output_file = path.join(\"images/one_epoch/\", \"nll_data_one_epoch.json\")\n",
    "with open(output_file, 'r') as nll_data:\n",
    "    output = json.load(nll_data)\n",
    "\n",
    "cifar_nll = output[\"cifar_nll\"]\n",
    "svhn_nll = output[\"svhn_nll\"]\n",
    "imagenet32_nll = output[\"imagenet32_nll\"]\n",
    "celeba_nll = output[\"celeba_nll\"]\n",
    "gtsrb_nll = output[\"gtsrb_nll\"]\n",
    "\n",
    "print(\"CIFAR NLL\", np.mean(cifar_nll))\n",
    "print(\"SVHN NLL\", np.mean(svhn_nll))\n",
    "print(\"Imagenet32 NLL\", np.mean(imagenet32_nll))\n",
    "print(\"Celeba NLL\", np.mean(celeba_nll))\n",
    "print(\"GTSRB NLL\", np.mean(gtsrb_nll))"
   ]
  },
  {
   "cell_type": "code",
   "execution_count": 19,
   "metadata": {
    "pycharm": {
     "name": "#%%\n"
    },
    "scrolled": false
   },
   "outputs": [
    {
     "data": {
      "image/png": "[encoded data removed]",
      "text/plain": [
       "<Figure size 2000x1000 with 1 Axes>"
      ]
     },
     "metadata": {},
     "output_type": "display_data"
    }
   ],
   "source": [
    "# 250\n",
    "# CIFAR NLL 3.435947921139002\n",
    "# SVHN NLL 2.1234527845771383\n",
    "# Imagenet32 NLL 2.861192772409916\n",
    "# Celeba NLL 3.180525192383011\n",
    "# GTSRB NLL 2.747616269176948\n",
    "#10\n",
    "# CIFAR NLL 3.6773196013689042\n",
    "# SVHN NLL 2.263177738811754\n",
    "# Imagenet32 NLL 3.262624274442196\n",
    "# Celeba NLL 3.3650425261800403\n",
    "# GTSRB NLL 3.267467555778893\n",
    "#1\n",
    "# CIFAR NLL 4.264880203771591\n",
    "# SVHN NLL 2.5720091812500354\n",
    "# Imagenet32 NLL 3.8097166062021257\n",
    "# Celeba NLL 3.824129492138592\n",
    "# GTSRB NLL 3.8120213098688343\n",
    "\n",
    "plt.figure(figsize=(20,10))\n",
    "plt.title(f\"Support Overlap under GLOW model\",fontsize=40) #- {epo_info}\")\n",
    "plt.xlabel(\"bits per dimension\", fontsize=30)\n",
    "\n",
    "# imagenet32_nll = imagenet32_nll[~torch.isinf(imagenet32_nll)]\n",
    "# imagenet32_nll = imagenet32_nll[imagenet32_nll < -6]\n",
    "# plt.hist(-imagenet32_nll.numpy(), label=\"Imagenet32\", density=True, bins=50, alpha=0.6, color='#00FF11', edgecolor='black')\n",
    "\n",
    "plt.hist(svhn_nll, label=\"SVHN\", density=True, bins=50, alpha=0.7,color='#002CFF')\n",
    "plt.hist(cifar_nll, label=\"CIFAR10\", density=True, bins=50, alpha=0.6, color='#FF0000')\n",
    "# plt.hist(celeba_nll.numpy(), label=\"Celeba\", density=True, bins=50, alpha=0.6,color='#F0FF00', edgecolor='black')\n",
    "# plt.hist(imagenet32_nll.numpy(), label=\"Imagenet32\", density=True, bins=50, alpha=0.6, color='#00FF11', edgecolor='black')\n",
    "# plt.hist(gtsrb_nll.numpy(), label=\"GTSRB\", density=True, bins=30, alpha=0.7,color='#00FAFF', edgecolor='black')\n",
    "plt.axvline(x=2.1234527845771383, color='#002CFF', linestyle='dashed', linewidth=2)\n",
    "plt.axvline(x=3.435947921139002, color='#FF0000', linestyle='dashed', linewidth=2)\n",
    "plt.legend(fontsize=20)\n",
    "output_path = path.join(\"images\", \"Support_overlap_svhn_cifar10_1.png\")\n",
    "plt.savefig(output_path)\n",
    "plt.show()\n"
   ]
  }
 ],
 "metadata": {
  "kernelspec": {
   "display_name": ".venv",
   "language": "python",
   "name": "python3"
  },
  "language_info": {
   "codemirror_mode": {
    "name": "ipython",
    "version": 3
   },
   "file_extension": ".py",
   "mimetype": "text/x-python",
   "name": "python",
   "nbconvert_exporter": "python",
   "pygments_lexer": "ipython3",
   "version": "3.10.12"
  }
 },
 "nbformat": 4,
 "nbformat_minor": 2
}
